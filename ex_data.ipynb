{
 "cells": [
  {
   "cell_type": "code",
   "execution_count": 69,
   "id": "5bc79a19-b4b4-4d49-8d1d-85a79f6f240a",
   "metadata": {},
   "outputs": [],
   "source": [
    "#初めてこのファイルを実行するときのみ実行\n",
    "pip install openpyxl\n",
    "pip install xlrd"
   ]
  },
  {
   "cell_type": "code",
   "execution_count": 76,
   "id": "f1ccca3c-de2c-48d5-bce4-aa53cb8250f3",
   "metadata": {},
   "outputs": [],
   "source": [
    "#--------------- ここのセルだけ編集 ------------------#\n",
    "\n",
    "#ファイルの端子は要確認！！！！！！！！！！！！！！！！！\n",
    "input_file = \"data4.xlsx\" #読み込むファイル(.xlsx)\n",
    "output_file = \"sssss.csv\" #出力するファイル(.CSV)\n",
    "\n",
    "#座標\n",
    "x = 100\n",
    "y = 100"
   ]
  },
  {
   "cell_type": "code",
   "execution_count": 62,
   "id": "84382f6c-2324-4489-8bae-aca55dba9d63",
   "metadata": {},
   "outputs": [],
   "source": [
    "#------------ ここから触るな　-------------#\n",
    "\n",
    "import pandas as pd\n",
    "import openpyxl\n",
    "wb = openpyxl.load_workbook(input_file)\n",
    "\n",
    "#シート名のリスト\n",
    "sheet_list = wb.sheetnames\n",
    "\n",
    "\n",
    "output_data = []\n",
    "\n",
    "#for文でt=0からt=96のデータを取得\n",
    "for i in range(len(sheet_list)):\n",
    "\n",
    "    time = sheet_list[i]\n",
    "    df = pd.read_excel(input_file,sheet_name=time,header = None)\n",
    "    tmp = df[x-1][y-1]\n",
    "    output_data.append(tmp)\n",
    "    print(tmp)\n",
    "\n",
    "excel_df = pd.Series(output_data,name='data')\n",
    "\n",
    "#CSVに書き出し（ファイル名.CSV）\n",
    "excel_df.to_csv(output_file)\n",
    "    \n",
    "\n",
    "\n"
   ]
  }
 ],
 "metadata": {
  "kernelspec": {
   "display_name": "Python 3 (ipykernel)",
   "language": "python",
   "name": "python3"
  },
  "language_info": {
   "codemirror_mode": {
    "name": "ipython",
    "version": 3
   },
   "file_extension": ".py",
   "mimetype": "text/x-python",
   "name": "python",
   "nbconvert_exporter": "python",
   "pygments_lexer": "ipython3",
   "version": "3.11.7"
  }
 },
 "nbformat": 4,
 "nbformat_minor": 5
}
